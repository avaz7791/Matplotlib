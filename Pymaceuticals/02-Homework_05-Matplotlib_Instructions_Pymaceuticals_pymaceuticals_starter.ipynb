{
 "cells": [
  {
   "cell_type": "markdown",
   "metadata": {},
   "source": [
    "## Observations and Insights "
   ]
  },
  {
   "cell_type": "markdown",
   "metadata": {},
   "source": []
  },
  {
   "cell_type": "code",
   "execution_count": 1,
   "metadata": {},
   "outputs": [],
   "source": [
    "# Dependencies and Setup\n",
    "import matplotlib.pyplot as plt\n",
    "import pandas as pd\n",
    "import scipy.stats as st\n",
    "\n",
    "# Study data files\n",
    "mouse_metadata_path = \"data/Mouse_metadata.csv\"\n",
    "study_results_path = \"data/Study_results.csv\"\n",
    "\n",
    "# Read the mouse data and the study results\n",
    "mouse_metadata = pd.read_csv(mouse_metadata_path)\n",
    "study_results = pd.read_csv(study_results_path)\n",
    "\n",
    "#mouse_metadata.head() \n",
    "#study_results.head()\n",
    "# Combine the data into a single dataset\n",
    "#school_data_complete = pd.merge(student_data, school_data, how=\"left\", on=[\"Mouse ID\", \"school_name\"])\n",
    "\n",
    "data_complete = pd.merge(mouse_metadata, study_results, how=\"inner\", on=[\"Mouse ID\"])\n",
    "# Display the data table for preview\n",
    "\n",
    "data_complete = data_complete.rename(columns={\"Weight (g)\": \"Weight\", \n",
    "                                              \"Tumor Volume (mm3)\":\"Tumor Volume\", \n",
    "                                              \"Age_months\":\"Age Months\"})\n",
    "#data_complete.head()\n",
    "data_complete.to_csv(\"Output2.csv\", index=True, header=True)"
   ]
  },
  {
   "cell_type": "code",
   "execution_count": 2,
   "metadata": {},
   "outputs": [],
   "source": [
    "#data_complete.describe()"
   ]
  },
  {
   "cell_type": "code",
   "execution_count": 3,
   "metadata": {},
   "outputs": [],
   "source": [
    "# Checking the number of mice.\n",
    "mice_df =data_complete.loc[:,[\"Mouse ID\", \"Timepoint\"]]"
   ]
  },
  {
   "cell_type": "code",
   "execution_count": 4,
   "metadata": {},
   "outputs": [
    {
     "data": {
      "text/html": [
       "<div>\n",
       "<style scoped>\n",
       "    .dataframe tbody tr th:only-of-type {\n",
       "        vertical-align: middle;\n",
       "    }\n",
       "\n",
       "    .dataframe tbody tr th {\n",
       "        vertical-align: top;\n",
       "    }\n",
       "\n",
       "    .dataframe thead th {\n",
       "        text-align: right;\n",
       "    }\n",
       "</style>\n",
       "<table border=\"1\" class=\"dataframe\">\n",
       "  <thead>\n",
       "    <tr style=\"text-align: right;\">\n",
       "      <th></th>\n",
       "      <th>Mouse ID</th>\n",
       "      <th>Timepoint</th>\n",
       "    </tr>\n",
       "  </thead>\n",
       "  <tbody>\n",
       "    <tr>\n",
       "      <th>908</th>\n",
       "      <td>g989</td>\n",
       "      <td>0</td>\n",
       "    </tr>\n",
       "    <tr>\n",
       "      <th>909</th>\n",
       "      <td>g989</td>\n",
       "      <td>0</td>\n",
       "    </tr>\n",
       "    <tr>\n",
       "      <th>910</th>\n",
       "      <td>g989</td>\n",
       "      <td>5</td>\n",
       "    </tr>\n",
       "    <tr>\n",
       "      <th>911</th>\n",
       "      <td>g989</td>\n",
       "      <td>5</td>\n",
       "    </tr>\n",
       "    <tr>\n",
       "      <th>912</th>\n",
       "      <td>g989</td>\n",
       "      <td>10</td>\n",
       "    </tr>\n",
       "    <tr>\n",
       "      <th>913</th>\n",
       "      <td>g989</td>\n",
       "      <td>10</td>\n",
       "    </tr>\n",
       "    <tr>\n",
       "      <th>914</th>\n",
       "      <td>g989</td>\n",
       "      <td>15</td>\n",
       "    </tr>\n",
       "    <tr>\n",
       "      <th>915</th>\n",
       "      <td>g989</td>\n",
       "      <td>15</td>\n",
       "    </tr>\n",
       "    <tr>\n",
       "      <th>916</th>\n",
       "      <td>g989</td>\n",
       "      <td>20</td>\n",
       "    </tr>\n",
       "    <tr>\n",
       "      <th>917</th>\n",
       "      <td>g989</td>\n",
       "      <td>20</td>\n",
       "    </tr>\n",
       "    <tr>\n",
       "      <th>918</th>\n",
       "      <td>g989</td>\n",
       "      <td>25</td>\n",
       "    </tr>\n",
       "    <tr>\n",
       "      <th>919</th>\n",
       "      <td>g989</td>\n",
       "      <td>30</td>\n",
       "    </tr>\n",
       "    <tr>\n",
       "      <th>920</th>\n",
       "      <td>g989</td>\n",
       "      <td>35</td>\n",
       "    </tr>\n",
       "  </tbody>\n",
       "</table>\n",
       "</div>"
      ],
      "text/plain": [
       "    Mouse ID  Timepoint\n",
       "908     g989          0\n",
       "909     g989          0\n",
       "910     g989          5\n",
       "911     g989          5\n",
       "912     g989         10\n",
       "913     g989         10\n",
       "914     g989         15\n",
       "915     g989         15\n",
       "916     g989         20\n",
       "917     g989         20\n",
       "918     g989         25\n",
       "919     g989         30\n",
       "920     g989         35"
      ]
     },
     "execution_count": 4,
     "metadata": {},
     "output_type": "execute_result"
    }
   ],
   "source": [
    "#mice_grp = mice_df.groupby(\"Mouse ID\")\n",
    "#mice_grp[\"Timepoint\"].count().sort_values(ascending=False)\n",
    "\n",
    "mice_g989 = mice_df.loc[mice_df[\"Mouse ID\"]==\"g989\",:]\n",
    "mice_g989.head(100)\n",
    "#Mouse ID g989    13 is the mouse with duplicate values. \n",
    "#this mouse id will be removed from the original df"
   ]
  },
  {
   "cell_type": "code",
   "execution_count": 5,
   "metadata": {},
   "outputs": [],
   "source": [
    "# Create a clean DataFrame by dropping the duplicate mouse by its ID.\n",
    "data_clean_df = data_complete[data_complete[\"Mouse ID\"]!='g989']\n"
   ]
  },
  {
   "cell_type": "code",
   "execution_count": 6,
   "metadata": {},
   "outputs": [
    {
     "data": {
      "text/html": [
       "<div>\n",
       "<style scoped>\n",
       "    .dataframe tbody tr th:only-of-type {\n",
       "        vertical-align: middle;\n",
       "    }\n",
       "\n",
       "    .dataframe tbody tr th {\n",
       "        vertical-align: top;\n",
       "    }\n",
       "\n",
       "    .dataframe thead th {\n",
       "        text-align: right;\n",
       "    }\n",
       "</style>\n",
       "<table border=\"1\" class=\"dataframe\">\n",
       "  <thead>\n",
       "    <tr style=\"text-align: right;\">\n",
       "      <th></th>\n",
       "      <th>Mouse ID</th>\n",
       "      <th>Drug Regimen</th>\n",
       "      <th>Sex</th>\n",
       "      <th>Age Months</th>\n",
       "      <th>Weight</th>\n",
       "      <th>Timepoint</th>\n",
       "      <th>Tumor Volume</th>\n",
       "      <th>Metastatic Sites</th>\n",
       "    </tr>\n",
       "  </thead>\n",
       "  <tbody>\n",
       "  </tbody>\n",
       "</table>\n",
       "</div>"
      ],
      "text/plain": [
       "Empty DataFrame\n",
       "Columns: [Mouse ID, Drug Regimen, Sex, Age Months, Weight, Timepoint, Tumor Volume, Metastatic Sites]\n",
       "Index: []"
      ]
     },
     "execution_count": 6,
     "metadata": {},
     "output_type": "execute_result"
    }
   ],
   "source": [
    "# Checking the number of mice in the clean DataFrame.\n",
    "data_clean_df.loc[data_clean_df[\"Mouse ID\"]==\"g989\",:]"
   ]
  },
  {
   "cell_type": "markdown",
   "metadata": {},
   "source": [
    "## Summary Statistics"
   ]
  },
  {
   "cell_type": "code",
   "execution_count": 50,
   "metadata": {},
   "outputs": [],
   "source": [
    "#data_clean_df.head()"
   ]
  },
  {
   "cell_type": "code",
   "execution_count": 49,
   "metadata": {},
   "outputs": [
    {
     "data": {
      "text/html": [
       "<div>\n",
       "<style scoped>\n",
       "    .dataframe tbody tr th:only-of-type {\n",
       "        vertical-align: middle;\n",
       "    }\n",
       "\n",
       "    .dataframe tbody tr th {\n",
       "        vertical-align: top;\n",
       "    }\n",
       "\n",
       "    .dataframe thead th {\n",
       "        text-align: right;\n",
       "    }\n",
       "</style>\n",
       "<table border=\"1\" class=\"dataframe\">\n",
       "  <thead>\n",
       "    <tr style=\"text-align: right;\">\n",
       "      <th></th>\n",
       "      <th>Tumor Vol Mean</th>\n",
       "      <th>Tumor Vol Median</th>\n",
       "      <th>Tumor Vol Var</th>\n",
       "      <th>Tumor Vol STD</th>\n",
       "      <th>Tumor Vol SEM</th>\n",
       "    </tr>\n",
       "    <tr>\n",
       "      <th>Drug Regimen</th>\n",
       "      <th></th>\n",
       "      <th></th>\n",
       "      <th></th>\n",
       "      <th></th>\n",
       "      <th></th>\n",
       "    </tr>\n",
       "  </thead>\n",
       "  <tbody>\n",
       "    <tr>\n",
       "      <th>Capomulin</th>\n",
       "      <td>40.6757</td>\n",
       "      <td>41.5578</td>\n",
       "      <td>24.9478</td>\n",
       "      <td>4.9948</td>\n",
       "      <td>0.3293</td>\n",
       "    </tr>\n",
       "    <tr>\n",
       "      <th>Ceftamin</th>\n",
       "      <td>52.5912</td>\n",
       "      <td>51.7762</td>\n",
       "      <td>39.2902</td>\n",
       "      <td>6.2682</td>\n",
       "      <td>0.4698</td>\n",
       "    </tr>\n",
       "    <tr>\n",
       "      <th>Infubinol</th>\n",
       "      <td>52.8848</td>\n",
       "      <td>51.8206</td>\n",
       "      <td>43.1287</td>\n",
       "      <td>6.5672</td>\n",
       "      <td>0.4922</td>\n",
       "    </tr>\n",
       "    <tr>\n",
       "      <th>Ketapril</th>\n",
       "      <td>55.2356</td>\n",
       "      <td>53.6987</td>\n",
       "      <td>68.5536</td>\n",
       "      <td>8.2797</td>\n",
       "      <td>0.6039</td>\n",
       "    </tr>\n",
       "    <tr>\n",
       "      <th>Naftisol</th>\n",
       "      <td>54.3316</td>\n",
       "      <td>52.5093</td>\n",
       "      <td>66.1735</td>\n",
       "      <td>8.1347</td>\n",
       "      <td>0.5965</td>\n",
       "    </tr>\n",
       "    <tr>\n",
       "      <th>Placebo</th>\n",
       "      <td>54.0336</td>\n",
       "      <td>52.2889</td>\n",
       "      <td>61.1681</td>\n",
       "      <td>7.8210</td>\n",
       "      <td>0.5813</td>\n",
       "    </tr>\n",
       "    <tr>\n",
       "      <th>Propriva</th>\n",
       "      <td>52.3209</td>\n",
       "      <td>50.4463</td>\n",
       "      <td>43.8520</td>\n",
       "      <td>6.6221</td>\n",
       "      <td>0.5443</td>\n",
       "    </tr>\n",
       "    <tr>\n",
       "      <th>Ramicane</th>\n",
       "      <td>40.2167</td>\n",
       "      <td>40.6732</td>\n",
       "      <td>23.4867</td>\n",
       "      <td>4.8463</td>\n",
       "      <td>0.3210</td>\n",
       "    </tr>\n",
       "    <tr>\n",
       "      <th>Stelasyn</th>\n",
       "      <td>54.2331</td>\n",
       "      <td>52.4317</td>\n",
       "      <td>59.4506</td>\n",
       "      <td>7.7104</td>\n",
       "      <td>0.5731</td>\n",
       "    </tr>\n",
       "    <tr>\n",
       "      <th>Zoniferol</th>\n",
       "      <td>53.2365</td>\n",
       "      <td>51.8185</td>\n",
       "      <td>48.5334</td>\n",
       "      <td>6.9666</td>\n",
       "      <td>0.5164</td>\n",
       "    </tr>\n",
       "  </tbody>\n",
       "</table>\n",
       "</div>"
      ],
      "text/plain": [
       "              Tumor Vol Mean  Tumor Vol Median  Tumor Vol Var  Tumor Vol STD  \\\n",
       "Drug Regimen                                                                   \n",
       "Capomulin            40.6757           41.5578        24.9478         4.9948   \n",
       "Ceftamin             52.5912           51.7762        39.2902         6.2682   \n",
       "Infubinol            52.8848           51.8206        43.1287         6.5672   \n",
       "Ketapril             55.2356           53.6987        68.5536         8.2797   \n",
       "Naftisol             54.3316           52.5093        66.1735         8.1347   \n",
       "Placebo              54.0336           52.2889        61.1681         7.8210   \n",
       "Propriva             52.3209           50.4463        43.8520         6.6221   \n",
       "Ramicane             40.2167           40.6732        23.4867         4.8463   \n",
       "Stelasyn             54.2331           52.4317        59.4506         7.7104   \n",
       "Zoniferol            53.2365           51.8185        48.5334         6.9666   \n",
       "\n",
       "              Tumor Vol SEM  \n",
       "Drug Regimen                 \n",
       "Capomulin            0.3293  \n",
       "Ceftamin             0.4698  \n",
       "Infubinol            0.4922  \n",
       "Ketapril             0.6039  \n",
       "Naftisol             0.5965  \n",
       "Placebo              0.5813  \n",
       "Propriva             0.5443  \n",
       "Ramicane             0.3210  \n",
       "Stelasyn             0.5731  \n",
       "Zoniferol            0.5164  "
      ]
     },
     "execution_count": 49,
     "metadata": {},
     "output_type": "execute_result"
    }
   ],
   "source": [
    "# Generate a summary statistics table of mean, \n",
    "# median, variance, standard deviation, and SEM of the tumor volume for each regimen\n",
    "\n",
    "# Use groupby and summary statistical methods to calculate the following properties of each drug regimen: \n",
    "# mean, median, variance, standard deviation, and SEM of the tumor volume. \n",
    "# Assemble the resulting series into a single summary dataframe.\n",
    "\n",
    "drugreg_grp = data_clean_df.set_index(\"Drug Regimen\").groupby([\"Drug Regimen\"])\n",
    "\n",
    "tumor_summary = pd.DataFrame({\"Tumor Vol Mean\": drugreg_grp[\"Tumor Volume\"].mean(), \n",
    "                              \"Tumor Vol Median\": drugreg_grp[\"Tumor Volume\"].median(),\n",
    "                              \"Tumor Vol Var\":  drugreg_grp[\"Tumor Volume\"].var(),\n",
    "                              \"Tumor Vol STD\": drugreg_grp[\"Tumor Volume\"].std(),\n",
    "                              \"Tumor Vol SEM\": drugreg_grp[\"Tumor Volume\"].sem()\n",
    "                            })\n",
    "\n",
    "tumor_summary.round(4)"
   ]
  },
  {
   "cell_type": "code",
   "execution_count": 48,
   "metadata": {},
   "outputs": [
    {
     "data": {
      "text/html": [
       "<div>\n",
       "<style scoped>\n",
       "    .dataframe tbody tr th:only-of-type {\n",
       "        vertical-align: middle;\n",
       "    }\n",
       "\n",
       "    .dataframe tbody tr th {\n",
       "        vertical-align: top;\n",
       "    }\n",
       "\n",
       "    .dataframe thead tr th {\n",
       "        text-align: left;\n",
       "    }\n",
       "\n",
       "    .dataframe thead tr:last-of-type th {\n",
       "        text-align: right;\n",
       "    }\n",
       "</style>\n",
       "<table border=\"1\" class=\"dataframe\">\n",
       "  <thead>\n",
       "    <tr>\n",
       "      <th></th>\n",
       "      <th colspan=\"5\" halign=\"left\">Tumor Volume</th>\n",
       "    </tr>\n",
       "    <tr>\n",
       "      <th></th>\n",
       "      <th>mean</th>\n",
       "      <th>median</th>\n",
       "      <th>var</th>\n",
       "      <th>std</th>\n",
       "      <th>sem</th>\n",
       "    </tr>\n",
       "    <tr>\n",
       "      <th>Drug Regimen</th>\n",
       "      <th></th>\n",
       "      <th></th>\n",
       "      <th></th>\n",
       "      <th></th>\n",
       "      <th></th>\n",
       "    </tr>\n",
       "  </thead>\n",
       "  <tbody>\n",
       "    <tr>\n",
       "      <th>Capomulin</th>\n",
       "      <td>40.6757</td>\n",
       "      <td>41.5578</td>\n",
       "      <td>24.9478</td>\n",
       "      <td>4.9948</td>\n",
       "      <td>0.3293</td>\n",
       "    </tr>\n",
       "    <tr>\n",
       "      <th>Ceftamin</th>\n",
       "      <td>52.5912</td>\n",
       "      <td>51.7762</td>\n",
       "      <td>39.2902</td>\n",
       "      <td>6.2682</td>\n",
       "      <td>0.4698</td>\n",
       "    </tr>\n",
       "    <tr>\n",
       "      <th>Infubinol</th>\n",
       "      <td>52.8848</td>\n",
       "      <td>51.8206</td>\n",
       "      <td>43.1287</td>\n",
       "      <td>6.5672</td>\n",
       "      <td>0.4922</td>\n",
       "    </tr>\n",
       "    <tr>\n",
       "      <th>Ketapril</th>\n",
       "      <td>55.2356</td>\n",
       "      <td>53.6987</td>\n",
       "      <td>68.5536</td>\n",
       "      <td>8.2797</td>\n",
       "      <td>0.6039</td>\n",
       "    </tr>\n",
       "    <tr>\n",
       "      <th>Naftisol</th>\n",
       "      <td>54.3316</td>\n",
       "      <td>52.5093</td>\n",
       "      <td>66.1735</td>\n",
       "      <td>8.1347</td>\n",
       "      <td>0.5965</td>\n",
       "    </tr>\n",
       "    <tr>\n",
       "      <th>Placebo</th>\n",
       "      <td>54.0336</td>\n",
       "      <td>52.2889</td>\n",
       "      <td>61.1681</td>\n",
       "      <td>7.8210</td>\n",
       "      <td>0.5813</td>\n",
       "    </tr>\n",
       "    <tr>\n",
       "      <th>Propriva</th>\n",
       "      <td>52.3209</td>\n",
       "      <td>50.4463</td>\n",
       "      <td>43.8520</td>\n",
       "      <td>6.6221</td>\n",
       "      <td>0.5443</td>\n",
       "    </tr>\n",
       "    <tr>\n",
       "      <th>Ramicane</th>\n",
       "      <td>40.2167</td>\n",
       "      <td>40.6732</td>\n",
       "      <td>23.4867</td>\n",
       "      <td>4.8463</td>\n",
       "      <td>0.3210</td>\n",
       "    </tr>\n",
       "    <tr>\n",
       "      <th>Stelasyn</th>\n",
       "      <td>54.2331</td>\n",
       "      <td>52.4317</td>\n",
       "      <td>59.4506</td>\n",
       "      <td>7.7104</td>\n",
       "      <td>0.5731</td>\n",
       "    </tr>\n",
       "    <tr>\n",
       "      <th>Zoniferol</th>\n",
       "      <td>53.2365</td>\n",
       "      <td>51.8185</td>\n",
       "      <td>48.5334</td>\n",
       "      <td>6.9666</td>\n",
       "      <td>0.5164</td>\n",
       "    </tr>\n",
       "  </tbody>\n",
       "</table>\n",
       "</div>"
      ],
      "text/plain": [
       "             Tumor Volume                                  \n",
       "                     mean   median      var     std     sem\n",
       "Drug Regimen                                               \n",
       "Capomulin         40.6757  41.5578  24.9478  4.9948  0.3293\n",
       "Ceftamin          52.5912  51.7762  39.2902  6.2682  0.4698\n",
       "Infubinol         52.8848  51.8206  43.1287  6.5672  0.4922\n",
       "Ketapril          55.2356  53.6987  68.5536  8.2797  0.6039\n",
       "Naftisol          54.3316  52.5093  66.1735  8.1347  0.5965\n",
       "Placebo           54.0336  52.2889  61.1681  7.8210  0.5813\n",
       "Propriva          52.3209  50.4463  43.8520  6.6221  0.5443\n",
       "Ramicane          40.2167  40.6732  23.4867  4.8463  0.3210\n",
       "Stelasyn          54.2331  52.4317  59.4506  7.7104  0.5731\n",
       "Zoniferol         53.2365  51.8185  48.5334  6.9666  0.5164"
      ]
     },
     "execution_count": 48,
     "metadata": {},
     "output_type": "execute_result"
    }
   ],
   "source": [
    "# Generate a summary statistics table of mean, median, variance, standard deviation, and SEM of the tumor volume for each regimen\n",
    "# Using the aggregation method, produce the same summary statistics in a single line\n",
    "drugreg_grp.agg({\"Tumor Volume\": ['mean', 'median','var','std','sem']}).round(4)"
   ]
  },
  {
   "cell_type": "markdown",
   "metadata": {},
   "source": [
    "## Bar and Pie Charts"
   ]
  },
  {
   "cell_type": "code",
   "execution_count": 51,
   "metadata": {},
   "outputs": [
    {
     "data": {
      "text/html": [
       "<div>\n",
       "<style scoped>\n",
       "    .dataframe tbody tr th:only-of-type {\n",
       "        vertical-align: middle;\n",
       "    }\n",
       "\n",
       "    .dataframe tbody tr th {\n",
       "        vertical-align: top;\n",
       "    }\n",
       "\n",
       "    .dataframe thead th {\n",
       "        text-align: right;\n",
       "    }\n",
       "</style>\n",
       "<table border=\"1\" class=\"dataframe\">\n",
       "  <thead>\n",
       "    <tr style=\"text-align: right;\">\n",
       "      <th></th>\n",
       "      <th>Mouse ID</th>\n",
       "      <th>Drug Regimen</th>\n",
       "      <th>Sex</th>\n",
       "      <th>Age Months</th>\n",
       "      <th>Weight</th>\n",
       "      <th>Timepoint</th>\n",
       "      <th>Tumor Volume</th>\n",
       "      <th>Metastatic Sites</th>\n",
       "    </tr>\n",
       "  </thead>\n",
       "  <tbody>\n",
       "    <tr>\n",
       "      <th>0</th>\n",
       "      <td>k403</td>\n",
       "      <td>Ramicane</td>\n",
       "      <td>Male</td>\n",
       "      <td>21</td>\n",
       "      <td>16</td>\n",
       "      <td>0</td>\n",
       "      <td>45.000000</td>\n",
       "      <td>0</td>\n",
       "    </tr>\n",
       "    <tr>\n",
       "      <th>1</th>\n",
       "      <td>k403</td>\n",
       "      <td>Ramicane</td>\n",
       "      <td>Male</td>\n",
       "      <td>21</td>\n",
       "      <td>16</td>\n",
       "      <td>5</td>\n",
       "      <td>38.825898</td>\n",
       "      <td>0</td>\n",
       "    </tr>\n",
       "    <tr>\n",
       "      <th>2</th>\n",
       "      <td>k403</td>\n",
       "      <td>Ramicane</td>\n",
       "      <td>Male</td>\n",
       "      <td>21</td>\n",
       "      <td>16</td>\n",
       "      <td>10</td>\n",
       "      <td>35.014271</td>\n",
       "      <td>1</td>\n",
       "    </tr>\n",
       "    <tr>\n",
       "      <th>3</th>\n",
       "      <td>k403</td>\n",
       "      <td>Ramicane</td>\n",
       "      <td>Male</td>\n",
       "      <td>21</td>\n",
       "      <td>16</td>\n",
       "      <td>15</td>\n",
       "      <td>34.223992</td>\n",
       "      <td>1</td>\n",
       "    </tr>\n",
       "    <tr>\n",
       "      <th>4</th>\n",
       "      <td>k403</td>\n",
       "      <td>Ramicane</td>\n",
       "      <td>Male</td>\n",
       "      <td>21</td>\n",
       "      <td>16</td>\n",
       "      <td>20</td>\n",
       "      <td>32.997729</td>\n",
       "      <td>1</td>\n",
       "    </tr>\n",
       "  </tbody>\n",
       "</table>\n",
       "</div>"
      ],
      "text/plain": [
       "  Mouse ID Drug Regimen   Sex  Age Months  Weight  Timepoint  Tumor Volume  \\\n",
       "0     k403     Ramicane  Male          21      16          0     45.000000   \n",
       "1     k403     Ramicane  Male          21      16          5     38.825898   \n",
       "2     k403     Ramicane  Male          21      16         10     35.014271   \n",
       "3     k403     Ramicane  Male          21      16         15     34.223992   \n",
       "4     k403     Ramicane  Male          21      16         20     32.997729   \n",
       "\n",
       "   Metastatic Sites  \n",
       "0                 0  \n",
       "1                 0  \n",
       "2                 1  \n",
       "3                 1  \n",
       "4                 1  "
      ]
     },
     "execution_count": 51,
     "metadata": {},
     "output_type": "execute_result"
    }
   ],
   "source": [
    "data_clean_df.head()"
   ]
  },
  {
   "cell_type": "code",
   "execution_count": 54,
   "metadata": {},
   "outputs": [
    {
     "data": {
      "text/plain": [
       "Drug Regimen\n",
       "Capomulin    AxesSubplot(0.125,0.125;0.775x0.755)\n",
       "Ceftamin     AxesSubplot(0.125,0.125;0.775x0.755)\n",
       "Infubinol    AxesSubplot(0.125,0.125;0.775x0.755)\n",
       "Ketapril     AxesSubplot(0.125,0.125;0.775x0.755)\n",
       "Naftisol     AxesSubplot(0.125,0.125;0.775x0.755)\n",
       "Placebo      AxesSubplot(0.125,0.125;0.775x0.755)\n",
       "Propriva     AxesSubplot(0.125,0.125;0.775x0.755)\n",
       "Ramicane     AxesSubplot(0.125,0.125;0.775x0.755)\n",
       "Stelasyn     AxesSubplot(0.125,0.125;0.775x0.755)\n",
       "Zoniferol    AxesSubplot(0.125,0.125;0.775x0.755)\n",
       "dtype: object"
      ]
     },
     "execution_count": 54,
     "metadata": {},
     "output_type": "execute_result"
    },
    {
     "data": {
      "image/png": "[encoded data removed]",
      "text/plain": [
       "<Figure size 432x288 with 1 Axes>"
      ]
     },
     "metadata": {
      "needs_background": "light"
     },
     "output_type": "display_data"
    },
    {
     "data": {
      "image/png": "[encoded data removed]",
      "text/plain": [
       "<Figure size 432x288 with 1 Axes>"
      ]
     },
     "metadata": {
      "needs_background": "light"
     },
     "output_type": "display_data"
    },
    {
     "data": {
      "image/png": "[encoded data removed]",
      "text/plain": [
       "<Figure size 432x288 with 1 Axes>"
      ]
     },
     "metadata": {
      "needs_background": "light"
     },
     "output_type": "display_data"
    },
    {
     "data": {
      "image/png": "[encoded data removed]",
      "text/plain": [
       "<Figure size 432x288 with 1 Axes>"
      ]
     },
     "metadata": {
      "needs_background": "light"
     },
     "output_type": "display_data"
    },
    {
     "data": {
      "image/png": "[encoded data removed]",
      "text/plain": [
       "<Figure size 432x288 with 1 Axes>"
      ]
     },
     "metadata": {
      "needs_background": "light"
     },
     "output_type": "display_data"
    },
    {
     "data": {
      "image/png": "[encoded data removed]",
      "text/plain": [
       "<Figure size 432x288 with 1 Axes>"
      ]
     },
     "metadata": {
      "needs_background": "light"
     },
     "output_type": "display_data"
    },
    {
     "data": {
      "image/png": "[encoded data removed]",
      "text/plain": [
       "<Figure size 432x288 with 1 Axes>"
      ]
     },
     "metadata": {
      "needs_background": "light"
     },
     "output_type": "display_data"
    },
    {
     "data": {
      "image/png": "[encoded data removed]",
      "text/plain": [
       "<Figure size 432x288 with 1 Axes>"
      ]
     },
     "metadata": {
      "needs_background": "light"
     },
     "output_type": "display_data"
    },
    {
     "data": {
      "image/png": "[encoded data removed]",
      "text/plain": [
       "<Figure size 432x288 with 1 Axes>"
      ]
     },
     "metadata": {
      "needs_background": "light"
     },
     "output_type": "display_data"
    },
    {
     "data": {
      "image/png": "[encoded data removed]",
      "text/plain": [
       "<Figure size 432x288 with 1 Axes>"
      ]
     },
     "metadata": {
      "needs_background": "light"
     },
     "output_type": "display_data"
    }
   ],
   "source": [
    "# Generate a bar plot showing the total number of measurements taken on each drug regimen using pandas.\n",
    "\n",
    "drugreg_grp.plot.bar(rot=0)"
   ]
  },
  {
   "cell_type": "code",
   "execution_count": null,
   "metadata": {},
   "outputs": [],
   "source": [
    "# Generate a bar plot showing the total number of measurements taken on each drug regimen using pyplot.\n",
    "\n"
   ]
  },
  {
   "cell_type": "code",
   "execution_count": null,
   "metadata": {},
   "outputs": [],
   "source": [
    "# Generate a pie plot showing the distribution of female versus male mice using pandas\n",
    "\n"
   ]
  },
  {
   "cell_type": "code",
   "execution_count": null,
   "metadata": {},
   "outputs": [],
   "source": [
    "# Generate a pie plot showing the distribution of female versus male mice using pyplot\n",
    "\n"
   ]
  },
  {
   "cell_type": "markdown",
   "metadata": {},
   "source": [
    "## Quartiles, Outliers and Boxplots"
   ]
  },
  {
   "cell_type": "code",
   "execution_count": null,
   "metadata": {},
   "outputs": [],
   "source": [
    "# Calculate the final tumor volume of each mouse across four of the treatment regimens:  \n",
    "# Capomulin, Ramicane, Infubinol, and Ceftamin\n",
    "\n",
    "# Start by getting the last (greatest) timepoint for each mouse\n",
    "\n",
    "\n",
    "# Merge this group df with the original dataframe to get the tumor volume at the last timepoint\n"
   ]
  },
  {
   "cell_type": "code",
   "execution_count": null,
   "metadata": {},
   "outputs": [],
   "source": [
    "# Put treatments into a list for for loop (and later for plot labels)\n",
    "\n",
    "\n",
    "# Create empty list to fill with tumor vol data (for plotting)\n",
    "\n",
    "\n",
    "# Calculate the IQR and quantitatively determine if there are any potential outliers. \n",
    "\n",
    "    \n",
    "    # Locate the rows which contain mice on each drug and get the tumor volumes\n",
    "    \n",
    "    \n",
    "    # add subset \n",
    "    \n",
    "    \n",
    "    # Determine outliers using upper and lower bounds\n",
    "    "
   ]
  },
  {
   "cell_type": "code",
   "execution_count": null,
   "metadata": {},
   "outputs": [],
   "source": [
    "# Generate a box plot of the final tumor volume of each mouse across four regimens of interest\n"
   ]
  },
  {
   "cell_type": "markdown",
   "metadata": {},
   "source": [
    "## Line and Scatter Plots"
   ]
  },
  {
   "cell_type": "code",
   "execution_count": null,
   "metadata": {},
   "outputs": [],
   "source": [
    "# Generate a line plot of tumor volume vs. time point for a mouse treated with Capomulin\n"
   ]
  },
  {
   "cell_type": "code",
   "execution_count": null,
   "metadata": {},
   "outputs": [],
   "source": [
    "# Generate a scatter plot of average tumor volume vs. mouse weight for the Capomulin regimen\n"
   ]
  },
  {
   "cell_type": "markdown",
   "metadata": {},
   "source": [
    "## Correlation and Regression"
   ]
  },
  {
   "cell_type": "code",
   "execution_count": null,
   "metadata": {},
   "outputs": [],
   "source": [
    "# Calculate the correlation coefficient and linear regression model \n",
    "# for mouse weight and average tumor volume for the Capomulin regimen\n"
   ]
  },
  {
   "cell_type": "code",
   "execution_count": null,
   "metadata": {},
   "outputs": [],
   "source": []
  }
 ],
 "metadata": {
  "anaconda-cloud": {},
  "kernelspec": {
   "display_name": "Python 3",
   "language": "python",
   "name": "python3"
  },
  "language_info": {
   "codemirror_mode": {
    "name": "ipython",
    "version": 3
   },
   "file_extension": ".py",
   "mimetype": "text/x-python",
   "name": "python",
   "nbconvert_exporter": "python",
   "pygments_lexer": "ipython3",
   "version": "3.6.10"
  }
 },
 "nbformat": 4,
 "nbformat_minor": 4
}
