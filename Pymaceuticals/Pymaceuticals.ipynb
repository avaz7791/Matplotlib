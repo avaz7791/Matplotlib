{
 "cells": [
  {
   "cell_type": "markdown",
   "metadata": {},
   "source": [
    "## Observations and Insights "
   ]
  },
  {
   "cell_type": "markdown",
   "metadata": {},
   "source": [
    "### Pymaceuticals\n",
    "* Dev: Amir Vazquez\n",
    "* Date: 12/21/2020"
   ]
  },
  {
   "cell_type": "code",
   "execution_count": 1,
   "metadata": {},
   "outputs": [],
   "source": [
    "#%matplotlib notebook #dont enable this\n",
    "# Dependencies and Setup\n",
    "import matplotlib.pyplot as plt\n",
    "import pandas as pd\n",
    "import numpy as np\n",
    "import scipy.stats as st\n",
    "\n",
    "\n",
    "# Study data files\n",
    "mouse_metadata_path = \"data/Mouse_metadata.csv\"\n",
    "study_results_path = \"data/Study_results.csv\"\n",
    "\n",
    "# Read the mouse data and the study results\n",
    "mouse_metadata = pd.read_csv(mouse_metadata_path)\n",
    "study_results = pd.read_csv(study_results_path)\n",
    "\n",
    "#mouse_metadata.head() \n",
    "#study_results.head()\n",
    "# Combine the data into a single dataset\n",
    "#school_data_complete = pd.merge(student_data, school_data, how=\"left\", on=[\"Mouse ID\", \"school_name\"])\n",
    "\n",
    "data_complete = pd.merge(mouse_metadata, study_results, how=\"inner\", on=[\"Mouse ID\"])\n",
    "# Display the data table for preview\n",
    "\n",
    "data_complete = data_complete.rename(columns={\"Weight (g)\": \"Weight\", \n",
    "                                              \"Tumor Volume (mm3)\":\"Tumor Volume\", \n",
    "                                              \"Age_months\":\"Age Months\"})\n",
    "#data_complete.head()\n",
    "data_complete.to_csv(\"Output2.csv\", index=True, header=True)"
   ]
  },
  {
   "cell_type": "code",
   "execution_count": 2,
   "metadata": {},
   "outputs": [],
   "source": [
    "#data_complete.describe()"
   ]
  },
  {
   "cell_type": "code",
   "execution_count": 3,
   "metadata": {},
   "outputs": [],
   "source": [
    "# Checking the number of mice.\n",
    "mice_df =data_complete.loc[:,[\"Mouse ID\", \"Timepoint\"]]"
   ]
  },
  {
   "cell_type": "code",
   "execution_count": 4,
   "metadata": {},
   "outputs": [
    {
     "data": {
      "text/html": [
       "<div>\n",
       "<style scoped>\n",
       "    .dataframe tbody tr th:only-of-type {\n",
       "        vertical-align: middle;\n",
       "    }\n",
       "\n",
       "    .dataframe tbody tr th {\n",
       "        vertical-align: top;\n",
       "    }\n",
       "\n",
       "    .dataframe thead th {\n",
       "        text-align: right;\n",
       "    }\n",
       "</style>\n",
       "<table border=\"1\" class=\"dataframe\">\n",
       "  <thead>\n",
       "    <tr style=\"text-align: right;\">\n",
       "      <th></th>\n",
       "      <th>Mouse ID</th>\n",
       "      <th>Timepoint</th>\n",
       "    </tr>\n",
       "  </thead>\n",
       "  <tbody>\n",
       "    <tr>\n",
       "      <th>908</th>\n",
       "      <td>g989</td>\n",
       "      <td>0</td>\n",
       "    </tr>\n",
       "    <tr>\n",
       "      <th>909</th>\n",
       "      <td>g989</td>\n",
       "      <td>0</td>\n",
       "    </tr>\n",
       "    <tr>\n",
       "      <th>910</th>\n",
       "      <td>g989</td>\n",
       "      <td>5</td>\n",
       "    </tr>\n",
       "    <tr>\n",
       "      <th>911</th>\n",
       "      <td>g989</td>\n",
       "      <td>5</td>\n",
       "    </tr>\n",
       "    <tr>\n",
       "      <th>912</th>\n",
       "      <td>g989</td>\n",
       "      <td>10</td>\n",
       "    </tr>\n",
       "    <tr>\n",
       "      <th>913</th>\n",
       "      <td>g989</td>\n",
       "      <td>10</td>\n",
       "    </tr>\n",
       "    <tr>\n",
       "      <th>914</th>\n",
       "      <td>g989</td>\n",
       "      <td>15</td>\n",
       "    </tr>\n",
       "    <tr>\n",
       "      <th>915</th>\n",
       "      <td>g989</td>\n",
       "      <td>15</td>\n",
       "    </tr>\n",
       "    <tr>\n",
       "      <th>916</th>\n",
       "      <td>g989</td>\n",
       "      <td>20</td>\n",
       "    </tr>\n",
       "    <tr>\n",
       "      <th>917</th>\n",
       "      <td>g989</td>\n",
       "      <td>20</td>\n",
       "    </tr>\n",
       "    <tr>\n",
       "      <th>918</th>\n",
       "      <td>g989</td>\n",
       "      <td>25</td>\n",
       "    </tr>\n",
       "    <tr>\n",
       "      <th>919</th>\n",
       "      <td>g989</td>\n",
       "      <td>30</td>\n",
       "    </tr>\n",
       "    <tr>\n",
       "      <th>920</th>\n",
       "      <td>g989</td>\n",
       "      <td>35</td>\n",
       "    </tr>\n",
       "  </tbody>\n",
       "</table>\n",
       "</div>"
      ],
      "text/plain": [
       "    Mouse ID  Timepoint\n",
       "908     g989          0\n",
       "909     g989          0\n",
       "910     g989          5\n",
       "911     g989          5\n",
       "912     g989         10\n",
       "913     g989         10\n",
       "914     g989         15\n",
       "915     g989         15\n",
       "916     g989         20\n",
       "917     g989         20\n",
       "918     g989         25\n",
       "919     g989         30\n",
       "920     g989         35"
      ]
     },
     "execution_count": 4,
     "metadata": {},
     "output_type": "execute_result"
    }
   ],
   "source": [
    "#mice_grp = mice_df.groupby(\"Mouse ID\")\n",
    "#mice_grp[\"Timepoint\"].count().sort_values(ascending=False)\n",
    "\n",
    "mice_g989 = mice_df.loc[mice_df[\"Mouse ID\"]==\"g989\",:]\n",
    "mice_g989.head(100)\n",
    "#Mouse ID g989    13 is the mouse with duplicate values. \n",
    "#this mouse id will be removed from the original df"
   ]
  },
  {
   "cell_type": "code",
   "execution_count": 5,
   "metadata": {},
   "outputs": [],
   "source": [
    "# Create a clean DataFrame by dropping the duplicate mouse by its ID.\n",
    "data_clean_df = data_complete[data_complete[\"Mouse ID\"]!='g989']"
   ]
  },
  {
   "cell_type": "code",
   "execution_count": 6,
   "metadata": {},
   "outputs": [
    {
     "data": {
      "text/html": [
       "<div>\n",
       "<style scoped>\n",
       "    .dataframe tbody tr th:only-of-type {\n",
       "        vertical-align: middle;\n",
       "    }\n",
       "\n",
       "    .dataframe tbody tr th {\n",
       "        vertical-align: top;\n",
       "    }\n",
       "\n",
       "    .dataframe thead th {\n",
       "        text-align: right;\n",
       "    }\n",
       "</style>\n",
       "<table border=\"1\" class=\"dataframe\">\n",
       "  <thead>\n",
       "    <tr style=\"text-align: right;\">\n",
       "      <th></th>\n",
       "      <th>Mouse ID</th>\n",
       "      <th>Drug Regimen</th>\n",
       "      <th>Sex</th>\n",
       "      <th>Age Months</th>\n",
       "      <th>Weight</th>\n",
       "      <th>Timepoint</th>\n",
       "      <th>Tumor Volume</th>\n",
       "      <th>Metastatic Sites</th>\n",
       "    </tr>\n",
       "  </thead>\n",
       "  <tbody>\n",
       "  </tbody>\n",
       "</table>\n",
       "</div>"
      ],
      "text/plain": [
       "Empty DataFrame\n",
       "Columns: [Mouse ID, Drug Regimen, Sex, Age Months, Weight, Timepoint, Tumor Volume, Metastatic Sites]\n",
       "Index: []"
      ]
     },
     "execution_count": 6,
     "metadata": {},
     "output_type": "execute_result"
    }
   ],
   "source": [
    "# Checking the number of mice in the clean DataFrame.\n",
    "data_clean_df.loc[data_clean_df[\"Mouse ID\"]==\"g989\",:]"
   ]
  },
  {
   "cell_type": "markdown",
   "metadata": {},
   "source": [
    "## Summary Statistics"
   ]
  },
  {
   "cell_type": "code",
   "execution_count": 7,
   "metadata": {},
   "outputs": [],
   "source": [
    "#data_clean_df.head()"
   ]
  },
  {
   "cell_type": "code",
   "execution_count": 8,
   "metadata": {},
   "outputs": [
    {
     "data": {
      "text/html": [
       "<div>\n",
       "<style scoped>\n",
       "    .dataframe tbody tr th:only-of-type {\n",
       "        vertical-align: middle;\n",
       "    }\n",
       "\n",
       "    .dataframe tbody tr th {\n",
       "        vertical-align: top;\n",
       "    }\n",
       "\n",
       "    .dataframe thead th {\n",
       "        text-align: right;\n",
       "    }\n",
       "</style>\n",
       "<table border=\"1\" class=\"dataframe\">\n",
       "  <thead>\n",
       "    <tr style=\"text-align: right;\">\n",
       "      <th></th>\n",
       "      <th>Tumor Vol Mean</th>\n",
       "      <th>Tumor Vol Median</th>\n",
       "      <th>Tumor Vol Var</th>\n",
       "      <th>Tumor Vol STD</th>\n",
       "      <th>Tumor Vol SEM</th>\n",
       "    </tr>\n",
       "    <tr>\n",
       "      <th>Drug Regimen</th>\n",
       "      <th></th>\n",
       "      <th></th>\n",
       "      <th></th>\n",
       "      <th></th>\n",
       "      <th></th>\n",
       "    </tr>\n",
       "  </thead>\n",
       "  <tbody>\n",
       "    <tr>\n",
       "      <th>Capomulin</th>\n",
       "      <td>40.6757</td>\n",
       "      <td>41.5578</td>\n",
       "      <td>24.9478</td>\n",
       "      <td>4.9948</td>\n",
       "      <td>0.3293</td>\n",
       "    </tr>\n",
       "    <tr>\n",
       "      <th>Ceftamin</th>\n",
       "      <td>52.5912</td>\n",
       "      <td>51.7762</td>\n",
       "      <td>39.2902</td>\n",
       "      <td>6.2682</td>\n",
       "      <td>0.4698</td>\n",
       "    </tr>\n",
       "    <tr>\n",
       "      <th>Infubinol</th>\n",
       "      <td>52.8848</td>\n",
       "      <td>51.8206</td>\n",
       "      <td>43.1287</td>\n",
       "      <td>6.5672</td>\n",
       "      <td>0.4922</td>\n",
       "    </tr>\n",
       "    <tr>\n",
       "      <th>Ketapril</th>\n",
       "      <td>55.2356</td>\n",
       "      <td>53.6987</td>\n",
       "      <td>68.5536</td>\n",
       "      <td>8.2797</td>\n",
       "      <td>0.6039</td>\n",
       "    </tr>\n",
       "    <tr>\n",
       "      <th>Naftisol</th>\n",
       "      <td>54.3316</td>\n",
       "      <td>52.5093</td>\n",
       "      <td>66.1735</td>\n",
       "      <td>8.1347</td>\n",
       "      <td>0.5965</td>\n",
       "    </tr>\n",
       "    <tr>\n",
       "      <th>Placebo</th>\n",
       "      <td>54.0336</td>\n",
       "      <td>52.2889</td>\n",
       "      <td>61.1681</td>\n",
       "      <td>7.8210</td>\n",
       "      <td>0.5813</td>\n",
       "    </tr>\n",
       "    <tr>\n",
       "      <th>Propriva</th>\n",
       "      <td>52.3209</td>\n",
       "      <td>50.4463</td>\n",
       "      <td>43.8520</td>\n",
       "      <td>6.6221</td>\n",
       "      <td>0.5443</td>\n",
       "    </tr>\n",
       "    <tr>\n",
       "      <th>Ramicane</th>\n",
       "      <td>40.2167</td>\n",
       "      <td>40.6732</td>\n",
       "      <td>23.4867</td>\n",
       "      <td>4.8463</td>\n",
       "      <td>0.3210</td>\n",
       "    </tr>\n",
       "    <tr>\n",
       "      <th>Stelasyn</th>\n",
       "      <td>54.2331</td>\n",
       "      <td>52.4317</td>\n",
       "      <td>59.4506</td>\n",
       "      <td>7.7104</td>\n",
       "      <td>0.5731</td>\n",
       "    </tr>\n",
       "    <tr>\n",
       "      <th>Zoniferol</th>\n",
       "      <td>53.2365</td>\n",
       "      <td>51.8185</td>\n",
       "      <td>48.5334</td>\n",
       "      <td>6.9666</td>\n",
       "      <td>0.5164</td>\n",
       "    </tr>\n",
       "  </tbody>\n",
       "</table>\n",
       "</div>"
      ],
      "text/plain": [
       "              Tumor Vol Mean  Tumor Vol Median  Tumor Vol Var  Tumor Vol STD  \\\n",
       "Drug Regimen                                                                   \n",
       "Capomulin            40.6757           41.5578        24.9478         4.9948   \n",
       "Ceftamin             52.5912           51.7762        39.2902         6.2682   \n",
       "Infubinol            52.8848           51.8206        43.1287         6.5672   \n",
       "Ketapril             55.2356           53.6987        68.5536         8.2797   \n",
       "Naftisol             54.3316           52.5093        66.1735         8.1347   \n",
       "Placebo              54.0336           52.2889        61.1681         7.8210   \n",
       "Propriva             52.3209           50.4463        43.8520         6.6221   \n",
       "Ramicane             40.2167           40.6732        23.4867         4.8463   \n",
       "Stelasyn             54.2331           52.4317        59.4506         7.7104   \n",
       "Zoniferol            53.2365           51.8185        48.5334         6.9666   \n",
       "\n",
       "              Tumor Vol SEM  \n",
       "Drug Regimen                 \n",
       "Capomulin            0.3293  \n",
       "Ceftamin             0.4698  \n",
       "Infubinol            0.4922  \n",
       "Ketapril             0.6039  \n",
       "Naftisol             0.5965  \n",
       "Placebo              0.5813  \n",
       "Propriva             0.5443  \n",
       "Ramicane             0.3210  \n",
       "Stelasyn             0.5731  \n",
       "Zoniferol            0.5164  "
      ]
     },
     "execution_count": 8,
     "metadata": {},
     "output_type": "execute_result"
    }
   ],
   "source": [
    "# Generate a summary statistics table of mean, \n",
    "# median, variance, standard deviation, and SEM of the tumor volume for each regimen\n",
    "\n",
    "# Use groupby and summary statistical methods to calculate the following properties of each drug regimen: \n",
    "# mean, median, variance, standard deviation, and SEM of the tumor volume. \n",
    "# Assemble the resulting series into a single summary dataframe.\n",
    "\n",
    "drugreg_grp = data_clean_df.set_index(\"Drug Regimen\").groupby([\"Drug Regimen\"])\n",
    "\n",
    "tumor_summary = pd.DataFrame({\"Tumor Vol Mean\": drugreg_grp[\"Tumor Volume\"].mean(), \n",
    "                              \"Tumor Vol Median\": drugreg_grp[\"Tumor Volume\"].median(),\n",
    "                              \"Tumor Vol Var\":  drugreg_grp[\"Tumor Volume\"].var(),\n",
    "                              \"Tumor Vol STD\": drugreg_grp[\"Tumor Volume\"].std(),\n",
    "                              \"Tumor Vol SEM\": drugreg_grp[\"Tumor Volume\"].sem()\n",
    "                            })\n",
    "\n",
    "tumor_summary.round(4)"
   ]
  },
  {
   "cell_type": "code",
   "execution_count": 9,
   "metadata": {},
   "outputs": [
    {
     "data": {
      "text/html": [
       "<div>\n",
       "<style scoped>\n",
       "    .dataframe tbody tr th:only-of-type {\n",
       "        vertical-align: middle;\n",
       "    }\n",
       "\n",
       "    .dataframe tbody tr th {\n",
       "        vertical-align: top;\n",
       "    }\n",
       "\n",
       "    .dataframe thead tr th {\n",
       "        text-align: left;\n",
       "    }\n",
       "\n",
       "    .dataframe thead tr:last-of-type th {\n",
       "        text-align: right;\n",
       "    }\n",
       "</style>\n",
       "<table border=\"1\" class=\"dataframe\">\n",
       "  <thead>\n",
       "    <tr>\n",
       "      <th></th>\n",
       "      <th colspan=\"5\" halign=\"left\">Tumor Volume</th>\n",
       "    </tr>\n",
       "    <tr>\n",
       "      <th></th>\n",
       "      <th>mean</th>\n",
       "      <th>median</th>\n",
       "      <th>var</th>\n",
       "      <th>std</th>\n",
       "      <th>sem</th>\n",
       "    </tr>\n",
       "    <tr>\n",
       "      <th>Drug Regimen</th>\n",
       "      <th></th>\n",
       "      <th></th>\n",
       "      <th></th>\n",
       "      <th></th>\n",
       "      <th></th>\n",
       "    </tr>\n",
       "  </thead>\n",
       "  <tbody>\n",
       "    <tr>\n",
       "      <th>Capomulin</th>\n",
       "      <td>40.6757</td>\n",
       "      <td>41.5578</td>\n",
       "      <td>24.9478</td>\n",
       "      <td>4.9948</td>\n",
       "      <td>0.3293</td>\n",
       "    </tr>\n",
       "    <tr>\n",
       "      <th>Ceftamin</th>\n",
       "      <td>52.5912</td>\n",
       "      <td>51.7762</td>\n",
       "      <td>39.2902</td>\n",
       "      <td>6.2682</td>\n",
       "      <td>0.4698</td>\n",
       "    </tr>\n",
       "    <tr>\n",
       "      <th>Infubinol</th>\n",
       "      <td>52.8848</td>\n",
       "      <td>51.8206</td>\n",
       "      <td>43.1287</td>\n",
       "      <td>6.5672</td>\n",
       "      <td>0.4922</td>\n",
       "    </tr>\n",
       "    <tr>\n",
       "      <th>Ketapril</th>\n",
       "      <td>55.2356</td>\n",
       "      <td>53.6987</td>\n",
       "      <td>68.5536</td>\n",
       "      <td>8.2797</td>\n",
       "      <td>0.6039</td>\n",
       "    </tr>\n",
       "    <tr>\n",
       "      <th>Naftisol</th>\n",
       "      <td>54.3316</td>\n",
       "      <td>52.5093</td>\n",
       "      <td>66.1735</td>\n",
       "      <td>8.1347</td>\n",
       "      <td>0.5965</td>\n",
       "    </tr>\n",
       "    <tr>\n",
       "      <th>Placebo</th>\n",
       "      <td>54.0336</td>\n",
       "      <td>52.2889</td>\n",
       "      <td>61.1681</td>\n",
       "      <td>7.8210</td>\n",
       "      <td>0.5813</td>\n",
       "    </tr>\n",
       "    <tr>\n",
       "      <th>Propriva</th>\n",
       "      <td>52.3209</td>\n",
       "      <td>50.4463</td>\n",
       "      <td>43.8520</td>\n",
       "      <td>6.6221</td>\n",
       "      <td>0.5443</td>\n",
       "    </tr>\n",
       "    <tr>\n",
       "      <th>Ramicane</th>\n",
       "      <td>40.2167</td>\n",
       "      <td>40.6732</td>\n",
       "      <td>23.4867</td>\n",
       "      <td>4.8463</td>\n",
       "      <td>0.3210</td>\n",
       "    </tr>\n",
       "    <tr>\n",
       "      <th>Stelasyn</th>\n",
       "      <td>54.2331</td>\n",
       "      <td>52.4317</td>\n",
       "      <td>59.4506</td>\n",
       "      <td>7.7104</td>\n",
       "      <td>0.5731</td>\n",
       "    </tr>\n",
       "    <tr>\n",
       "      <th>Zoniferol</th>\n",
       "      <td>53.2365</td>\n",
       "      <td>51.8185</td>\n",
       "      <td>48.5334</td>\n",
       "      <td>6.9666</td>\n",
       "      <td>0.5164</td>\n",
       "    </tr>\n",
       "  </tbody>\n",
       "</table>\n",
       "</div>"
      ],
      "text/plain": [
       "             Tumor Volume                                  \n",
       "                     mean   median      var     std     sem\n",
       "Drug Regimen                                               \n",
       "Capomulin         40.6757  41.5578  24.9478  4.9948  0.3293\n",
       "Ceftamin          52.5912  51.7762  39.2902  6.2682  0.4698\n",
       "Infubinol         52.8848  51.8206  43.1287  6.5672  0.4922\n",
       "Ketapril          55.2356  53.6987  68.5536  8.2797  0.6039\n",
       "Naftisol          54.3316  52.5093  66.1735  8.1347  0.5965\n",
       "Placebo           54.0336  52.2889  61.1681  7.8210  0.5813\n",
       "Propriva          52.3209  50.4463  43.8520  6.6221  0.5443\n",
       "Ramicane          40.2167  40.6732  23.4867  4.8463  0.3210\n",
       "Stelasyn          54.2331  52.4317  59.4506  7.7104  0.5731\n",
       "Zoniferol         53.2365  51.8185  48.5334  6.9666  0.5164"
      ]
     },
     "execution_count": 9,
     "metadata": {},
     "output_type": "execute_result"
    }
   ],
   "source": [
    "# Generate a summary statistics table of mean, median, variance, standard deviation, \n",
    "# and SEM of the tumor volume for each regimen\n",
    "# Using the aggregation method, produce the same summary statistics in a single line\n",
    "\n",
    "drugreg_grp.agg({\"Tumor Volume\": ['mean', 'median','var','std','sem']}).round(4)"
   ]
  },
  {
   "cell_type": "markdown",
   "metadata": {},
   "source": [
    "## Bar and Pie Charts"
   ]
  },
  {
   "cell_type": "code",
   "execution_count": 10,
   "metadata": {},
   "outputs": [
    {
     "data": {
      "text/plain": [
       "Drug Regimen\n",
       "Capomulin    230\n",
       "Ceftamin     178\n",
       "Infubinol    178\n",
       "Ketapril     188\n",
       "Naftisol     186\n",
       "Placebo      181\n",
       "Propriva     148\n",
       "Ramicane     228\n",
       "Stelasyn     181\n",
       "Zoniferol    182\n",
       "Name: Mouse ID, dtype: int64"
      ]
     },
     "execution_count": 10,
     "metadata": {},
     "output_type": "execute_result"
    }
   ],
   "source": [
    "drugreg_grp[\"Mouse ID\"].count()"
   ]
  },
  {
   "cell_type": "code",
   "execution_count": 11,
   "metadata": {},
   "outputs": [
    {
     "data": {
      "image/png": "[encoded data removed]",
      "text/plain": [
       "<Figure size 432x288 with 1 Axes>"
      ]
     },
     "metadata": {
      "needs_background": "light"
     },
     "output_type": "display_data"
    }
   ],
   "source": [
    "# Generate a bar plot showing the total number of measurements taken on each drug regimen using pandas.\n",
    "\n",
    "#data_clean_df.plot(x= \"Drug Regimen\", y=\"Mouse ID\", kind='bar')\n",
    "drg_bar =drugreg_grp.count().sort_values([\"Mouse ID\"], ascending=False)[\"Mouse ID\"].plot(kind='bar', rot=45)"
   ]
  },
  {
   "cell_type": "code",
   "execution_count": 12,
   "metadata": {},
   "outputs": [
    {
     "data": {
      "image/png": "[encoded data removed]",
      "text/plain": [
       "<Figure size 432x288 with 1 Axes>"
      ]
     },
     "metadata": {
      "needs_background": "light"
     },
     "output_type": "display_data"
    }
   ],
   "source": [
    "# Generate a bar plot showing the total number of measurements taken on each drug regimen using pyplot.\n",
    "\n",
    "# get the counts for each drug in the data set\n",
    "drug_cnt = data_clean_df['Drug Regimen'].value_counts()\n",
    "x_axis = np.arange(len(drug_cnt))\n",
    "\n",
    "plt.bar(x_axis, drug_cnt)\n",
    "xticks = [x for x in x_axis]\n",
    "plt.xticks(xticks, drug_cnt.index.values, rotation=45)\n",
    "plt.ylabel(\"Mouse ID Counts\")\n",
    "plt.xlabel(\"Drug Regimen\")\n",
    "plt.show()"
   ]
  },
  {
   "cell_type": "code",
   "execution_count": 13,
   "metadata": {},
   "outputs": [
    {
     "data": {
      "image/png": "[encoded data removed]",
      "text/plain": [
       "<Figure size 432x288 with 1 Axes>"
      ]
     },
     "metadata": {},
     "output_type": "display_data"
    }
   ],
   "source": [
    "# Generate a pie plot showing the distribution of female versus male mice using pandas\n",
    "\n",
    "# get the counts for 'Sex' in the data set\n",
    "pie_data = data_clean_df[\"Sex\"].value_counts()\n",
    "plotpie = pie_data.plot(kind='pie', title=\"Distribution by Sex\", autopct =\"%1.2f%%\") "
   ]
  },
  {
   "cell_type": "code",
   "execution_count": 14,
   "metadata": {},
   "outputs": [
    {
     "data": {
      "image/png": "[encoded data removed]",
      "text/plain": [
       "<Figure size 432x288 with 1 Axes>"
      ]
     },
     "metadata": {},
     "output_type": "display_data"
    }
   ],
   "source": [
    "# Generate a pie plot showing the distribution of female versus male mice using pyplot\n",
    "\n",
    "Sex_cnt = data_clean_df['Sex'].value_counts()\n",
    "#x_axis = np.arange(len(Sex_cnt))\n",
    "\n",
    "plt.pie(Sex_cnt, autopct =\"%1.2f%%\", labels = Sex_cnt.index.values)\n",
    "plt.title(\"Distribution by Sex\")\n",
    "plt.show()"
   ]
  },
  {
   "cell_type": "markdown",
   "metadata": {},
   "source": [
    "## Quartiles, Outliers and Boxplots"
   ]
  },
  {
   "cell_type": "code",
   "execution_count": 15,
   "metadata": {},
   "outputs": [
    {
     "data": {
      "text/html": [
       "<div>\n",
       "<style scoped>\n",
       "    .dataframe tbody tr th:only-of-type {\n",
       "        vertical-align: middle;\n",
       "    }\n",
       "\n",
       "    .dataframe tbody tr th {\n",
       "        vertical-align: top;\n",
       "    }\n",
       "\n",
       "    .dataframe thead th {\n",
       "        text-align: right;\n",
       "    }\n",
       "</style>\n",
       "<table border=\"1\" class=\"dataframe\">\n",
       "  <thead>\n",
       "    <tr style=\"text-align: right;\">\n",
       "      <th></th>\n",
       "      <th>Mouse ID</th>\n",
       "      <th>Drug Regimen</th>\n",
       "      <th>Sex</th>\n",
       "      <th>Age Months</th>\n",
       "      <th>Weight</th>\n",
       "      <th>Timepoint</th>\n",
       "      <th>Tumor Volume</th>\n",
       "      <th>Metastatic Sites</th>\n",
       "      <th>TimePointMax</th>\n",
       "    </tr>\n",
       "  </thead>\n",
       "  <tbody>\n",
       "    <tr>\n",
       "      <th>0</th>\n",
       "      <td>k403</td>\n",
       "      <td>Ramicane</td>\n",
       "      <td>Male</td>\n",
       "      <td>21</td>\n",
       "      <td>16</td>\n",
       "      <td>0</td>\n",
       "      <td>45.000000</td>\n",
       "      <td>0</td>\n",
       "      <td>45</td>\n",
       "    </tr>\n",
       "    <tr>\n",
       "      <th>1</th>\n",
       "      <td>k403</td>\n",
       "      <td>Ramicane</td>\n",
       "      <td>Male</td>\n",
       "      <td>21</td>\n",
       "      <td>16</td>\n",
       "      <td>5</td>\n",
       "      <td>38.825898</td>\n",
       "      <td>0</td>\n",
       "      <td>45</td>\n",
       "    </tr>\n",
       "    <tr>\n",
       "      <th>2</th>\n",
       "      <td>k403</td>\n",
       "      <td>Ramicane</td>\n",
       "      <td>Male</td>\n",
       "      <td>21</td>\n",
       "      <td>16</td>\n",
       "      <td>10</td>\n",
       "      <td>35.014271</td>\n",
       "      <td>1</td>\n",
       "      <td>45</td>\n",
       "    </tr>\n",
       "    <tr>\n",
       "      <th>3</th>\n",
       "      <td>k403</td>\n",
       "      <td>Ramicane</td>\n",
       "      <td>Male</td>\n",
       "      <td>21</td>\n",
       "      <td>16</td>\n",
       "      <td>15</td>\n",
       "      <td>34.223992</td>\n",
       "      <td>1</td>\n",
       "      <td>45</td>\n",
       "    </tr>\n",
       "    <tr>\n",
       "      <th>4</th>\n",
       "      <td>k403</td>\n",
       "      <td>Ramicane</td>\n",
       "      <td>Male</td>\n",
       "      <td>21</td>\n",
       "      <td>16</td>\n",
       "      <td>20</td>\n",
       "      <td>32.997729</td>\n",
       "      <td>1</td>\n",
       "      <td>45</td>\n",
       "    </tr>\n",
       "  </tbody>\n",
       "</table>\n",
       "</div>"
      ],
      "text/plain": [
       "  Mouse ID Drug Regimen   Sex  Age Months  Weight  Timepoint  Tumor Volume  \\\n",
       "0     k403     Ramicane  Male          21      16          0     45.000000   \n",
       "1     k403     Ramicane  Male          21      16          5     38.825898   \n",
       "2     k403     Ramicane  Male          21      16         10     35.014271   \n",
       "3     k403     Ramicane  Male          21      16         15     34.223992   \n",
       "4     k403     Ramicane  Male          21      16         20     32.997729   \n",
       "\n",
       "   Metastatic Sites  TimePointMax  \n",
       "0                 0            45  \n",
       "1                 0            45  \n",
       "2                 1            45  \n",
       "3                 1            45  \n",
       "4                 1            45  "
      ]
     },
     "execution_count": 15,
     "metadata": {},
     "output_type": "execute_result"
    }
   ],
   "source": [
    "# Calculate the final tumor volume of each mouse across four of the treatment regimens:  \n",
    "# Capomulin, Ramicane, Infubinol, and Ceftamin\n",
    "\n",
    "# store the selected drugs in dx list\n",
    "dx = ['Capomulin', 'Ramicane', 'Infubinol', 'Ceftamin']\n",
    "\n",
    "# Start by getting the last (greatest) timepoint for each mouse\n",
    "max_df = pd.DataFrame(data_clean_df.groupby(\"Mouse ID\")[\"Timepoint\"].max())\n",
    "max_df = max_df.rename(columns={'Timepoint': 'TimePointMax'})\n",
    "#max_df\n",
    "\n",
    "# Merge this group df with the original dataframe to get the tumor volume at the last timepoint\n",
    "updated_df = pd.merge(data_clean_df, max_df, on= 'Mouse ID')\n",
    "\n",
    "updated_df.head()"
   ]
  },
  {
   "cell_type": "code",
   "execution_count": 16,
   "metadata": {},
   "outputs": [
    {
     "name": "stdout",
     "output_type": "stream",
     "text": [
      "This drug Capomulin lower quartile of tumor vol is: 32.3774\n",
      "This drug Capomulin upper quartile of tumor vol is: 40.1592\n",
      "This drug Capomulin interquartile range of tumor vol is: 7.7818\n",
      "This drug Capomulin the median of tumor vol is: 38.1252 \n",
      "Values below 20.704700000000003 could be outliers.\n",
      "Values above 51.8319 could be outliers.\n",
      "This drug Ramicane lower quartile of tumor vol is: 31.5605\n",
      "This drug Ramicane upper quartile of tumor vol is: 40.659\n",
      "This drug Ramicane interquartile range of tumor vol is: 9.0985\n",
      "This drug Ramicane the median of tumor vol is: 36.5617 \n",
      "Values below 17.912750000000003 could be outliers.\n",
      "Values above 54.306749999999994 could be outliers.\n",
      "This drug Infubinol lower quartile of tumor vol is: 54.0486\n",
      "This drug Infubinol upper quartile of tumor vol is: 65.5257\n",
      "This drug Infubinol interquartile range of tumor vol is: 11.4771\n",
      "This drug Infubinol the median of tumor vol is: 60.1652 \n",
      "Values below 36.83295 could be outliers.\n",
      "Values above 82.74135 could be outliers.\n",
      "This drug Ceftamin lower quartile of tumor vol is: 48.7221\n",
      "This drug Ceftamin upper quartile of tumor vol is: 64.2998\n",
      "This drug Ceftamin interquartile range of tumor vol is: 15.5777\n",
      "This drug Ceftamin the median of tumor vol is: 59.852 \n",
      "Values below 25.355549999999997 could be outliers.\n",
      "Values above 87.66635000000001 could be outliers.\n"
     ]
    }
   ],
   "source": [
    "# Put treatments into a list for for loop (and later for plot labels)\n",
    "# Create empty list to fill with tumor vol data (for plotting)\n",
    "tumor_vol_data = []\n",
    "\n",
    "for x in dx:\n",
    "    #pull data for the selected required drugs in dx\n",
    "    data_dx = updated_df.loc[updated_df['Drug Regimen'] == x]\n",
    "\n",
    "#data_dx\n",
    "\n",
    "    # pull the timepoint data for selected drugs\n",
    "    # Locate the rows which contain mice on each drug and get the tumor volumes\n",
    "    # add subset \n",
    "\n",
    "    dx_timepoint_df = data_dx.loc[data_dx['Timepoint']  == data_dx['TimePointMax']]\n",
    "\n",
    "    vol_data = dx_timepoint_df['Tumor Volume']\n",
    "    #add the tumor series into the tumor vol data list\n",
    "    tumor_vol_data.append(vol_data)\n",
    "    \n",
    "#dx_timepoint_df\n",
    "    \n",
    "# Calculate the IQR and quantitatively determine if there are any potential outliers. \n",
    "    quartiles = vol_data.quantile([.25,.5,.75])\n",
    "    quartiles= round(quartiles,4)\n",
    "    lowerq = round(quartiles[0.25],4)\n",
    "    upperq = round(quartiles[0.75],4)\n",
    "    iqr = round(upperq-lowerq,4)\n",
    "    \n",
    "    print(f\"This drug {x} lower quartile of tumor vol is: {lowerq}\")\n",
    "    print(f\"This drug {x} upper quartile of tumor vol is: {upperq}\")\n",
    "    print(f\"This drug {x} interquartile range of tumor vol is: {iqr}\")\n",
    "    print(f\"This drug {x} the median of tumor vol is: {quartiles[0.5]} \")\n",
    "    \n",
    "    # Determine outliers using upper and lower bounds    \n",
    "    lower_bound = lowerq - (1.5*iqr)\n",
    "    upper_bound = upperq + (1.5*iqr)\n",
    "    print(f\"Values below {lower_bound} could be outliers.\")\n",
    "    print(f\"Values above {upper_bound} could be outliers.\")\n",
    "    "
   ]
  },
  {
   "cell_type": "code",
   "execution_count": 17,
   "metadata": {},
   "outputs": [
    {
     "data": {
      "image/png": "[encoded data removed]",
      "text/plain": [
       "<Figure size 432x288 with 1 Axes>"
      ]
     },
     "metadata": {
      "needs_background": "light"
     },
     "output_type": "display_data"
    }
   ],
   "source": [
    "# Generate a box plot of the final tumor volume of each mouse across four regimens of interest\n",
    "plotmarker = dict(markersize='8', marker='X')\n",
    "plt.title(\"Tumor Volume by Drug Regimens\")\n",
    "plt.xticks([1,2,3,4] ,dx)\n",
    "plt.boxplot(tumor_vol_data, notch=1,  showmeans=True , flierprops = plotmarker)\n",
    "plt.show()"
   ]
  },
  {
   "cell_type": "markdown",
   "metadata": {},
   "source": [
    "## Line and Scatter Plots"
   ]
  },
  {
   "cell_type": "code",
   "execution_count": 18,
   "metadata": {},
   "outputs": [],
   "source": [
    "# Generate a line plot of tumor volume vs. time point for a mouse treated with Capomulin\n",
    "data_dx_capomulin = updated_df.loc[updated_df['Drug Regimen'] == 'Capomulin']\n",
    "\n",
    "data_dx_capomulin['Mouse ID'].unique() \n",
    "# use subject g288 for graphing\n",
    "data_dx_capomulin_mg288 = data_dx_capomulin.loc[data_dx_capomulin['Mouse ID']=='g288']"
   ]
  },
  {
   "cell_type": "code",
   "execution_count": 19,
   "metadata": {},
   "outputs": [
    {
     "data": {
      "image/png": "[encoded data removed]",
      "text/plain": [
       "<Figure size 432x288 with 1 Axes>"
      ]
     },
     "metadata": {
      "needs_background": "light"
     },
     "output_type": "display_data"
    }
   ],
   "source": [
    "#plot mouse g288\n",
    "plt.plot(data_dx_capomulin_mg288['Timepoint'], data_dx_capomulin_mg288['Tumor Volume'], marker ='o', linestyle='--' )\n",
    "\n",
    "plt.xlabel('Timepoint')\n",
    "plt.ylabel('Tumor Vol.')\n",
    "plt.title('Mouse ID = g288')\n",
    "\n",
    "plt.show()"
   ]
  },
  {
   "cell_type": "code",
   "execution_count": 20,
   "metadata": {},
   "outputs": [
    {
     "data": {
      "image/png": "[encoded data removed]",
      "text/plain": [
       "<Figure size 432x288 with 1 Axes>"
      ]
     },
     "metadata": {
      "needs_background": "light"
     },
     "output_type": "display_data"
    }
   ],
   "source": [
    "# Generate a scatter plot of average tumor volume vs. mouse weight for the Capomulin regimen\n",
    "\n",
    "#create new dataframe with \n",
    "avg_data_dx_capomuli = pd.DataFrame(data_dx_capomulin.groupby('Mouse ID')['Tumor Volume'].mean() )\n",
    "avg_data_dx_capomuli = avg_data_dx_capomuli.rename(columns = {'Tumor Volume':'Avg Tumor Vol'})\n",
    "#avg_data_dx_capomuli.head()\n",
    "\n",
    "#merging data with average data for plotting\n",
    "setup_merge_df = pd.merge(data_dx_capomulin, avg_data_dx_capomuli, on= \"Mouse ID\")\n",
    "\n",
    "#setup_merge_df.describe()\n",
    "#remove the duplicates to clean up the df\n",
    "new_data_dx_capomuli = setup_merge_df[['Weight', 'Avg Tumor Vol']].drop_duplicates()\n",
    "\n",
    "new_data_dx_capomuli.head()\n",
    "\n",
    "x = new_data_dx_capomuli['Weight']\n",
    "y = new_data_dx_capomuli['Avg Tumor Vol']\n",
    "\n",
    "plt.scatter(x,y)\n",
    "\n",
    "plt.ylabel(\"Avg Tumor Volume\")\n",
    "plt.xlabel(\"Avg Tumor Weight\")\n",
    "plt.title('Capomulin Drug Regimen ')\n",
    "plt.show()"
   ]
  },
  {
   "cell_type": "markdown",
   "metadata": {},
   "source": [
    "## Correlation and Regression"
   ]
  },
  {
   "cell_type": "code",
   "execution_count": 21,
   "metadata": {},
   "outputs": [],
   "source": [
    "# Calculate the correlation coefficient and linear regression model \n",
    "# for mouse weight and average tumor volume for the Capomulin regimen\n",
    "\n",
    "capomulin_df = updated_df.loc[updated_df['Drug Regimen']=='Capomulin']\n",
    "#capomulin_df.head()\n",
    "\n",
    "avg_capomuli = pd.DataFrame(capomulin_df.groupby('Mouse ID')['Tumor Volume'].mean() )\n",
    "avg_capomuli = avg_capomuli.rename(columns = {'Tumor Volume':'Avg Tumor Vol'})\n",
    "#avg_capomuli.head()\n",
    "\n",
    "merge_scatter_set = pd.merge(capomulin_df,avg_capomuli, on='Mouse ID' )\n",
    "#merge_scatter_set.head()\n",
    "scatter_set = merge_scatter_set[['Weight', 'Avg Tumor Vol']].drop_duplicates()\n",
    "#scatter_set.head()\n",
    "\n",
    "x = scatter_set['Weight']\n",
    "y = scatter_set['Avg Tumor Vol']\n",
    "\n",
    "# calculate correlation coefficient\n",
    "corr = st.pearsonr(x,y)\n",
    "#corr #(0.8419363424694718, 1.3225722434712687e-07)\n",
    "#Correlation between both elements is 0.8419"
   ]
  },
  {
   "cell_type": "code",
   "execution_count": 22,
   "metadata": {},
   "outputs": [
    {
     "data": {
      "image/png": "[encoded data removed]",
      "text/plain": [
       "<Figure size 432x288 with 1 Axes>"
      ]
     },
     "metadata": {
      "needs_background": "light"
     },
     "output_type": "display_data"
    },
    {
     "name": "stdout",
     "output_type": "stream",
     "text": [
      "The correlation between Weight and the Average tumor volume for the drug Capomulin: 0.8419\n"
     ]
    }
   ],
   "source": [
    "from scipy.stats import linregress\n",
    "from scipy.stats import sem\n",
    "# LinR\n",
    "(slope, intercept, rvalue, pvalue, stderr) = linregress(x,y)\n",
    "\n",
    "regression = x * slope + intercept\n",
    "line_eq = \"y = \" + str(round(slope,2)) + \"x + \" + str(round(intercept,2))\n",
    "\n",
    "plt.scatter(x, y)\n",
    "plt.plot(x , regression,\"r-\")\n",
    "\n",
    "plt.annotate(line_eq,(20,40),fontsize=15,color=\"red\")\n",
    "\n",
    "plt.xlabel('Weight')\n",
    "plt.ylabel('Avg Tumor Vol')\n",
    "plt.title('Capomulin Drug Regimen')\n",
    "plt.show()\n",
    "print(f'The correlation between Weight and the Average tumor volume for the drug Capomulin: {round(corr[0],4)}')"
   ]
  },
  {
   "cell_type": "code",
   "execution_count": null,
   "metadata": {},
   "outputs": [],
   "source": []
  }
 ],
 "metadata": {
  "anaconda-cloud": {},
  "kernelspec": {
   "display_name": "Python 3",
   "language": "python",
   "name": "python3"
  },
  "language_info": {
   "codemirror_mode": {
    "name": "ipython",
    "version": 3
   },
   "file_extension": ".py",
   "mimetype": "text/x-python",
   "name": "python",
   "nbconvert_exporter": "python",
   "pygments_lexer": "ipython3",
   "version": "3.8.5"
  }
 },
 "nbformat": 4,
 "nbformat_minor": 4
}
